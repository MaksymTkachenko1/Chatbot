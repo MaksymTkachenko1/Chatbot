{
 "cells": [
  {
   "cell_type": "markdown",
   "id": "72cf74a6-d826-4b0f-b151-d79b2d2c8d94",
   "metadata": {},
   "source": [
    "# Introduction to RAG chatbot"
   ]
  },
  {
   "cell_type": "markdown",
   "id": "7aee5ed1-d5a5-4030-93c5-e4d87396ccd9",
   "metadata": {},
   "source": [
    "Now we can combine knowledge we get from the two previous notebooks in this module:\n",
    "* from the first one we will take\n",
    "    - **memory persistence** - this is an important part of production chat bots. For customer applications we want not only preserve messages during ongoing conversation, but also store them long term. It may be useful for multiple purposes:\n",
    "        * to start the conversation at any time in the future from the point where we left off\n",
    "        * for security and compliance reasons\n",
    "        * to collect the data for fine-tuning of the model, etc.\n",
    "* from the second notebook we will reuse our **RAG application**.\n",
    "\n",
    "\n",
    "Using these tools we will build RAG chatbot with memory that will be capable to classify user intent and create branches in our conversation flow.  \n",
    "It will be a simple example of a chatbot that can answer casual questions or retrieve scientific papers from vector storage.  \n",
    "Although concepts that we use here are quite simple, the potential of this architecture and its' different variations is huge. \n",
    "\n",
    "For that purpose we will use langgraph implementation because it is the most recent one.  \n",
    "There are other ways how we can build application with the same functionality using pure langchain, e.g. [this one](https://python.langchain.com/api_reference/core/runnables/langchain_core.runnables.history.RunnableWithMessageHistory.html#runnablewithmessagehistory).\n",
    "\n",
    "Generally, implementation of a RAG depends heavily on your existing architecture and stack used, business requirements and SLAs.\n"
   ]
  },
  {
   "cell_type": "code",
   "execution_count": 181,
   "id": "6057fa4a-1c2c-428b-bd87-d4e5b9968036",
   "metadata": {},
   "outputs": [
    {
     "name": "stdout",
     "output_type": "stream",
     "text": [
      "OpenAI API Key Loaded: True\n",
      "LLM Model Name: gpt-4o-mini\n",
      "Embeddings Model Name: text-embedding-3-small\n"
     ]
    }
   ],
   "source": [
    "import os\n",
    "import sys\n",
    "from pathlib import Path\n",
    "sys.path.append(str(Path().resolve().parent.parent))\n",
    "\n",
    "from dotenv import load_dotenv, find_dotenv\n",
    "load_dotenv(find_dotenv())\n",
    "\n",
    "from src.loader import ArticleLoader\n",
    "from src.retriever import ArticleRetriever\n",
    "\n",
    "from langchain_chroma import Chroma\n",
    "import glob\n",
    "from langchain_openai import ChatOpenAI, OpenAIEmbeddings\n",
    "from langgraph.checkpoint.memory import MemorySaver\n",
    "from langgraph.graph import MessagesState, StateGraph, END\n",
    "from langgraph.prebuilt import ToolNode, tools_condition\n",
    "from langchain_core.tools import tool, render_text_description_and_args\n",
    "from langchain_core.messages import SystemMessage\n",
    "from uuid import uuid4\n",
    "from IPython.display import display, Markdown\n",
    "\n",
    "llm = ChatOpenAI(model='gpt-4o-mini')\n",
    "\n",
    "embeddings_model = OpenAIEmbeddings(model=\"text-embedding-3-small\")\n",
    "\n",
    "persist_directory = 'docs/chroma/'\n",
    "JSON_DIR = \"../dataset_doc/train\"\n",
    "\n",
    "print(f\"OpenAI API Key Loaded: {'OPENAI_API_KEY' in os.environ and bool(os.environ.get('OPENAI_API_KEY'))}\")\n",
    "print(f\"LLM Model Name: {llm.model_name}\")\n",
    "print(f\"Embeddings Model Name: {embeddings_model.model}\")"
   ]
  },
  {
   "cell_type": "markdown",
   "id": "ff891582-a870-42f2-a2b7-d4653a19e714",
   "metadata": {},
   "source": [
    "### `math_retriever` tool"
   ]
  },
  {
   "cell_type": "markdown",
   "id": "d8e4d6d3-cf21-4272-814c-2e63dbbadfb7",
   "metadata": {},
   "source": [
    "Let's load some articles from doc_bank dataset.  \n",
    "Instantiate `Chroma` and our `retriever`.  \n",
    "We will utilize the retriever we've implemented before.\n",
    "\n",
    "We will select a small subset of documents and index them.  \n",
    "Note that we set k=1, so we will use only the top retrieved document to generate answers."
   ]
  },
  {
   "cell_type": "code",
   "execution_count": 182,
   "id": "254e760e-39df-4e49-a53c-324497263462",
   "metadata": {},
   "outputs": [],
   "source": [
    "articles_list = [os.path.basename(dir) for dir in glob.glob(f\"{JSON_DIR}/*\")[:20]]\n",
    "\n",
    "documents = []\n",
    "\n",
    "for article_path in articles_list:\n",
    "    article_path = Path(JSON_DIR, article_path).resolve(strict=True)\n",
    "    loader = ArticleLoader(article_path)\n",
    "    docs = loader.load()\n",
    "    documents.extend(docs)\n",
    "\n",
    "vectordb = Chroma.from_documents(\n",
    "    documents=documents,\n",
    "    embedding=embeddings_model,\n",
    "    persist_directory=persist_directory\n",
    ")\n",
    "retriever = ArticleRetriever(\n",
    "    vectordb=vectordb,\n",
    "    k=1\n",
    ")"
   ]
  },
  {
   "cell_type": "markdown",
   "id": "037eb729-e53d-4091-9386-12c54f45607a",
   "metadata": {},
   "source": [
    "Now, getting to actual RAG-based chatbot implementation.\n",
    "\n",
    "First, lets create a graph builder object from langgraph (`StateGraph`) and put [`MessagesState`](https://langchain-ai.github.io/langgraph/concepts/low_level/#messagesstate) inside it.  \n",
    "`MessagesState` is an object that will hold all the messages that pass throught the conversationgraph together with all their metadata, e.g.: \n",
    "* type of the message (`HumanMessage`, `AIMessage`, `ToolMessage`)\n",
    "* token usage\n",
    "* all unique ids, etc.\n"
   ]
  },
  {
   "cell_type": "code",
   "execution_count": 183,
   "id": "2ec46af3-39b6-4053-8e4a-760975fa52f7",
   "metadata": {},
   "outputs": [],
   "source": [
    "graph_builder = StateGraph(MessagesState)"
   ]
  },
  {
   "cell_type": "markdown",
   "id": "dc057205-a5ca-4c13-a093-ce73eb46d346",
   "metadata": {},
   "source": [
    "Then we create a function `math_retriever` that will use our `retriever` for obtaining document chunks.  \n",
    "We will use [`@tool`](https://python.langchain.com/api_reference/core/tools/langchain_core.tools.convert.tool.html#tool) wrapper from langchain and specify that the function should return content together with artifacts.  \n",
    "Note that this is an alternative to `StructuredTool` we used in the first Notebook.\n",
    "\n",
    "Notice here that docstring that we add to a function will be used for the annotation of the tool and LLM agent will decide whether to use this tool based on this annotation. Thus it's important to annotate it properly."
   ]
  },
  {
   "cell_type": "code",
   "execution_count": 184,
   "id": "51875b2a-c0e4-470a-b04d-0260c75cd8fc",
   "metadata": {},
   "outputs": [],
   "source": [
    "@tool(response_format=\"content_and_artifact\")\n",
    "def math_retriever(query: str):\n",
    "    \"\"\"Retrieve information related to a math query from indexed scientific papers.\"\"\"\n",
    "    # Use the public invoke method which handles callbacks correctly\n",
    "    retrieved_docs = retriever.invoke(query)\n",
    "\n",
    "    # Serialize the document content and metadata for the LLM\n",
    "    serialized = \"\\n\\n\".join(\n",
    "        (f\"Source: {doc.metadata}\\n\" f\"Content: {doc.page_content}\")\n",
    "        for doc in retrieved_docs\n",
    "    )\n",
    "    # Return serialized string and the original documents as artifacts\n",
    "    return serialized, retrieved_docs"
   ]
  },
  {
   "cell_type": "markdown",
   "id": "cf08528b-0f48-4c5f-ade8-7c095c7c3c7c",
   "metadata": {},
   "source": [
    "We generated a tool with the name `math_retriever`.  \n",
    "Note how we've got a StructuredTool utilizing the `@tool` decorator."
   ]
  },
  {
   "cell_type": "code",
   "execution_count": 185,
   "id": "e5552119",
   "metadata": {},
   "outputs": [
    {
     "data": {
      "text/plain": [
       "langchain_core.tools.structured.StructuredTool"
      ]
     },
     "execution_count": 185,
     "metadata": {},
     "output_type": "execute_result"
    }
   ],
   "source": [
    "type(math_retriever)"
   ]
  },
  {
   "cell_type": "code",
   "execution_count": 186,
   "id": "51fadd19-d01b-47b7-bcb9-e36b38c6ad1a",
   "metadata": {},
   "outputs": [
    {
     "data": {
      "text/plain": [
       "'math_retriever'"
      ]
     },
     "execution_count": 186,
     "metadata": {},
     "output_type": "execute_result"
    }
   ],
   "source": [
    "math_retriever.name"
   ]
  },
  {
   "cell_type": "code",
   "execution_count": 187,
   "id": "d1a8ee5e",
   "metadata": {},
   "outputs": [
    {
     "data": {
      "text/plain": [
       "\"math_retriever(query: str) - Retrieve information related to a math query from indexed scientific papers., args: {'query': {'title': 'Query', 'type': 'string'}}\""
      ]
     },
     "execution_count": 187,
     "metadata": {},
     "output_type": "execute_result"
    }
   ],
   "source": [
    "render_text_description_and_args([math_retriever]) "
   ]
  },
  {
   "cell_type": "markdown",
   "id": "66544540-46a8-4e98-8c66-888c558ebe3b",
   "metadata": {},
   "source": [
    "### Conditional node `query_or_respond` (it splits conversation graph into branches)"
   ]
  },
  {
   "cell_type": "markdown",
   "id": "2562effa-4747-4e00-bfe5-6d529039e0fe",
   "metadata": {},
   "source": [
    "Next we create a function that will be the conditional node in our graph and will bind the tool (make the dialog flow going through retrieval) in case LLM decide to use the tool.\n",
    "\n",
    "It's important to remeber that this this function will generate a `tool_call` event (`AIMessage`) in the `MessagesState`. Thus, it will decide which way the conversation will go. \n",
    "\n",
    "The function's docstring here is very important as it gives LLM instruction when to use the tool and when not to.  \n",
    "That's why it's important to write the docstring properly.  \n",
    "For instance, it's better to specify exact name of the tool to be called and exact conditions when it needs to be called."
   ]
  },
  {
   "cell_type": "code",
   "execution_count": 188,
   "id": "eb686416-cc8b-45a9-add1-3d09380c6291",
   "metadata": {},
   "outputs": [],
   "source": [
    "# Step 1: Generate an AIMessage that may include a tool-call to be sent.\n",
    "def query_or_respond(state: MessagesState):\n",
    "    \"\"\"Generate tool call for `math_retriever` if user question pertains various branches of math; \n",
    "    Respond in case user says something casual\"\"\"\n",
    "    llm_with_tools = llm.bind_tools([math_retriever])\n",
    "    response = llm_with_tools.invoke(state[\"messages\"])\n",
    "    return {\"messages\": [response]}"
   ]
  },
  {
   "cell_type": "markdown",
   "id": "54ffb5d1-7e38-4224-a181-2c15675492a4",
   "metadata": {},
   "source": [
    "### `tools` object"
   ]
  },
  {
   "cell_type": "markdown",
   "id": "1c9a220e-358b-4550-bc2e-f13ae1800c68",
   "metadata": {},
   "source": [
    "Then we create a set of tools using pre built LangGraph component, [`ToolNode`](https://langchain-ai.github.io/langgraph/how-tos/tool-calling/?h=tool#how-to-call-tools-using-toolnode).  \n",
    "It will execute the `tool_call` made by `query_or_respond` and will add tool response (`ToolMessage`) to the `MessageState`."
   ]
  },
  {
   "cell_type": "code",
   "execution_count": 189,
   "id": "6da15909-ad99-4f6b-b998-66bb352768eb",
   "metadata": {},
   "outputs": [],
   "source": [
    "# Step 2: Execute the retrieval.\n",
    "tools = ToolNode([math_retriever])"
   ]
  },
  {
   "cell_type": "markdown",
   "id": "8226dcdc-663e-4be7-932b-e7fcde867bbf",
   "metadata": {},
   "source": [
    "Notice below, if we list tools by name. We have our `retrieve` tool together with the description from the docstring"
   ]
  },
  {
   "cell_type": "code",
   "execution_count": 190,
   "id": "5c04460d-4244-49a5-a2ce-5341b9f50928",
   "metadata": {},
   "outputs": [
    {
     "data": {
      "text/plain": [
       "{'math_retriever': StructuredTool(name='math_retriever', description='Retrieve information related to a math query from indexed scientific papers.', args_schema=<class 'langchain_core.utils.pydantic.math_retriever'>, response_format='content_and_artifact', func=<function math_retriever at 0x000002601A586200>)}"
      ]
     },
     "execution_count": 190,
     "metadata": {},
     "output_type": "execute_result"
    }
   ],
   "source": [
    "tools.tools_by_name"
   ]
  },
  {
   "cell_type": "markdown",
   "id": "9df8cfcd-4609-4475-980a-fb4de0de3c29",
   "metadata": {},
   "source": [
    "### `generate` function\n",
    "\n",
    "Next, we create a function that will generate the answer on the question using retrieved documents."
   ]
  },
  {
   "cell_type": "code",
   "execution_count": 191,
   "id": "bb35aefc-82d2-48df-99e3-a98505907220",
   "metadata": {},
   "outputs": [],
   "source": [
    "# Step 3: Generate a response using the retrieved content.\n",
    "def generate(state: MessagesState):\n",
    "    \"\"\"Generate answer.\"\"\"\n",
    "    # Get generated ToolMessages\n",
    "    message_content = state[\"messages\"][-1].content\n",
    "\n",
    "    system_message_content = (\n",
    "        \"You are an assistant for question-answering tasks. \"\n",
    "        \"Use the following pieces of retrieved context to answer \"\n",
    "        \"the question. If you don't know the answer, say that you \"\n",
    "        \"don't know. Use three sentences maximum and keep the \"\n",
    "        \"answer concise.\"\n",
    "        \"\\n\\n\"\n",
    "        f\"{message_content}\"\n",
    "    )\n",
    "    conversation_messages = [\n",
    "        message\n",
    "        for message in state[\"messages\"]\n",
    "        if message.type in (\"human\", \"system\")\n",
    "        or (message.type == \"ai\" and not message.tool_calls)\n",
    "    ]\n",
    "    prompt = [SystemMessage(system_message_content)] + conversation_messages\n",
    "\n",
    "    # Run\n",
    "    response = llm.invoke(prompt)\n",
    "    return {\"messages\": [response]}"
   ]
  },
  {
   "cell_type": "markdown",
   "id": "21211121-c87e-43e7-a215-d9a3be23257f",
   "metadata": {},
   "source": [
    "### Compiling the `graph`"
   ]
  },
  {
   "cell_type": "markdown",
   "id": "718f9757-5648-406a-a847-85a55d52e589",
   "metadata": {},
   "source": [
    "Now, as we have all the nodes ready let's build the graph"
   ]
  },
  {
   "cell_type": "markdown",
   "id": "30d0b435-ad1b-4bf6-842e-28944929ead0",
   "metadata": {},
   "source": [
    "First, let's create nodes `query_or_respond`, `tools`, and `generate`."
   ]
  },
  {
   "cell_type": "code",
   "execution_count": 192,
   "id": "4ffb971c-1f6c-4889-8954-6716f781abed",
   "metadata": {},
   "outputs": [
    {
     "data": {
      "text/plain": [
       "<langgraph.graph.state.StateGraph at 0x26014b45b20>"
      ]
     },
     "execution_count": 192,
     "metadata": {},
     "output_type": "execute_result"
    }
   ],
   "source": [
    "graph_builder.add_node(query_or_respond)\n",
    "graph_builder.add_node(tools)\n",
    "graph_builder.add_node(generate)"
   ]
  },
  {
   "cell_type": "markdown",
   "id": "c7b2ced0-187d-45c7-b270-1c9302a1403f",
   "metadata": {},
   "source": [
    "Now, we create conditional edge for `query_or_respond` node. \n",
    "There are 2 options: \n",
    "* to call available tools or\n",
    "* to `END` conversation, current interaction with the user which means to return an answer right away. "
   ]
  },
  {
   "cell_type": "code",
   "execution_count": 193,
   "id": "0b7493a7-b313-4558-9478-badb9f9dc3ca",
   "metadata": {},
   "outputs": [
    {
     "data": {
      "text/plain": [
       "<langgraph.graph.state.StateGraph at 0x26014b45b20>"
      ]
     },
     "execution_count": 193,
     "metadata": {},
     "output_type": "execute_result"
    }
   ],
   "source": [
    "graph_builder.set_entry_point(\"query_or_respond\")\n",
    "graph_builder.add_conditional_edges(\n",
    "    \"query_or_respond\",\n",
    "    tools_condition,\n",
    "    {END: END, \"tools\": \"tools\"},\n",
    ")"
   ]
  },
  {
   "cell_type": "markdown",
   "id": "b69a38b5-e84a-440c-9c29-a2e9e942b325",
   "metadata": {},
   "source": [
    "We connect nodes `tools` with `generate`, and `generate` with `END` respectively."
   ]
  },
  {
   "cell_type": "code",
   "execution_count": 194,
   "id": "b323b229-d99c-4cba-9a4f-4eef33fbd84d",
   "metadata": {},
   "outputs": [
    {
     "data": {
      "text/plain": [
       "<langgraph.graph.state.StateGraph at 0x26014b45b20>"
      ]
     },
     "execution_count": 194,
     "metadata": {},
     "output_type": "execute_result"
    }
   ],
   "source": [
    "graph_builder.add_edge(\"tools\", \"generate\")\n",
    "graph_builder.add_edge(\"generate\", END)"
   ]
  },
  {
   "cell_type": "markdown",
   "id": "8fd35b6c-0166-4875-bcc1-9999ad52963b",
   "metadata": {},
   "source": [
    "Finally we compile the graph and as chekpoint use `MemorySaver` object.\n",
    "You can read about this object in details [in Langgraph documentation](https://langchain-ai.github.io/langgraph/concepts/persistence/).\n",
    "\n",
    "For now let's just remember that it creates a memory flow and appends snapshots of `MessagesState` after every single change in it, i.e. after adding of `HumanMessage`, `AIMessage`, `ToolMessage` etc.  \n",
    "Thus, the number of snapshots will be growing faster than the number of `HumanMessage`."
   ]
  },
  {
   "cell_type": "code",
   "execution_count": 195,
   "id": "89e93005-e1bf-4333-9268-80c0253dc595",
   "metadata": {},
   "outputs": [],
   "source": [
    "memory = MemorySaver()\n",
    "graph = graph_builder.compile(checkpointer=memory)\n",
    "\n",
    "# Specify an ID for the thread\n",
    "config = {\"configurable\": {\"thread_id\": str(uuid4())}}"
   ]
  },
  {
   "cell_type": "markdown",
   "id": "5bc9d4c2-517d-4f8a-b325-c4bdaf996dd2",
   "metadata": {},
   "source": [
    "Let's visualize the graph"
   ]
  },
  {
   "cell_type": "code",
   "execution_count": 196,
   "id": "f0b1e0a5-e4d4-4e36-a63a-6a86c3135f3d",
   "metadata": {},
   "outputs": [
    {
     "data": {
      "image/png": "[encoded data removed]",
      "text/plain": [
       "<langgraph.graph.state.CompiledStateGraph object at 0x0000026018172F30>"
      ]
     },
     "execution_count": 196,
     "metadata": {},
     "output_type": "execute_result"
    }
   ],
   "source": [
    "graph"
   ]
  },
  {
   "cell_type": "markdown",
   "id": "1784e434-c79e-47bd-a52f-aa31cf7c3364",
   "metadata": {},
   "source": [
    "### Test"
   ]
  },
  {
   "cell_type": "markdown",
   "id": "8006ba29-67bd-48ed-a203-56ce4d8b3f01",
   "metadata": {},
   "source": [
    "Let's try out our chatbot. First, let's greet it."
   ]
  },
  {
   "cell_type": "code",
   "execution_count": 197,
   "id": "3f55d70d-4abe-4193-93cb-536b65937ee1",
   "metadata": {},
   "outputs": [
    {
     "name": "stdout",
     "output_type": "stream",
     "text": [
      "================================\u001b[1m Human Message \u001b[0m=================================\n",
      "\n",
      "Hello\n",
      "==================================\u001b[1m Ai Message \u001b[0m==================================\n",
      "\n",
      "Hello! How can I assist you today?\n"
     ]
    }
   ],
   "source": [
    "input_message = \"Hello\"\n",
    "\n",
    "for step in graph.stream(\n",
    "    {\"messages\": [{\"role\": \"user\", \"content\": input_message}]},\n",
    "    stream_mode=\"values\",\n",
    "    config=config \n",
    "):\n",
    "    step[\"messages\"][-1].pretty_print()"
   ]
  },
  {
   "cell_type": "markdown",
   "id": "de174930-dade-4715-b15f-5eda66f05d5b",
   "metadata": {},
   "source": [
    "It answered right away without any additional tool calls. Now, let's ask it some complex question."
   ]
  },
  {
   "cell_type": "code",
   "execution_count": 198,
   "id": "cecbc528-dfb8-4ff0-a7e3-7c8de2f6472a",
   "metadata": {
    "scrolled": true
   },
   "outputs": [
    {
     "name": "stdout",
     "output_type": "stream",
     "text": [
      "================================\u001b[1m Human Message \u001b[0m=================================\n",
      "\n",
      "Within Math Game Theory what are the games with ﬁrst-mover advantage?\n",
      "==================================\u001b[1m Ai Message \u001b[0m==================================\n",
      "Tool Calls:\n",
      "  math_retriever (call_m77hrVAk8lo7p6h2JB8gI0Ku)\n",
      " Call ID: call_m77hrVAk8lo7p6h2JB8gI0Ku\n",
      "  Args:\n",
      "    query: first-mover advantage in game theory\n",
      "=================================\u001b[1m Tool Message \u001b[0m=================================\n",
      "Name: math_retriever\n",
      "\n",
      "Source: {'abstract': ' We propose a framework for generating a signal\\n control policy for a trafﬁc network of signalized intersections to\\n accomplish control objectives expressible using linear temporal\\n logic. By applying techniques from model checking and formal\\n methods, we obtain a correct-by-construction controller that is guaranteed to satisfy complex speciﬁcations. To apply these\\n tools, we identify and exploit structural properties particular\\n to trafﬁc networks that allow for efﬁcient computation of a\\n ﬁnite state abstraction. In particular, trafﬁc networks exhibit\\n a componentwise monotonicity property which allows reach set\\n computations that scale linearly with the dimension of the continuous state space.', 'author': ' Samuel Coogan, Ebru Aydin Gol, Murat Arcak, and Calin Belta Abstract—', 'page': 2, 'source': '1408.1437', 'title': ' Trafﬁc Network Control from Temporal Logic Speciﬁcations'}\n",
      "Content:  links. This phenomenon, sometimes called the ﬁrst-in-ﬁrst- out property, has been widely studied in the transportation ##LTLine## ##LTLine## ##LTLine## ##LTLine## ##LTLine## ##LTLine## ##LTLine## ##LTLine## ##LTLine## ##LTLine## ##LTLine##\n",
      "==================================\u001b[1m Ai Message \u001b[0m==================================\n",
      "\n",
      "In game theory, games with first-mover advantage typically include those where the initial player can make a strategic move that significantly influences the outcome, such as in Nash equilibrium scenarios or sequential games like chess or tic-tac-toe. The first mover can dictate the pace and direction of the game, often establishing a favorable position or forcing the second player into a reactive strategy. Examples include the extensive form games where the first player can commit to a strategy that offers a better payoff based on the responses of subsequent players.\n"
     ]
    }
   ],
   "source": [
    "input_message = \"Within Math Game Theory what are the games with ﬁrst-mover advantage?\"\n",
    "\n",
    "for step in graph.stream(\n",
    "    {\"messages\": [{\"role\": \"user\", \"content\": input_message}]},\n",
    "    stream_mode=\"values\",\n",
    "    config=config \n",
    "):\n",
    "    step[\"messages\"][-1].pretty_print()"
   ]
  },
  {
   "cell_type": "markdown",
   "id": "2b2c094f-4a2d-44b3-9597-ed18ec56ef9f",
   "metadata": {},
   "source": [
    "As you can see from our question it generated a query fro `retrieve` function and executed a vector database search. In the end it generated answer using retrieved chunks. "
   ]
  },
  {
   "cell_type": "markdown",
   "id": "7fc7e9c8-2c85-44dc-9934-cf63af541c04",
   "metadata": {},
   "source": [
    "Let's ask another complex question."
   ]
  },
  {
   "cell_type": "code",
   "execution_count": 199,
   "id": "aa39c38e-426c-44e8-adc1-24ac9ae36f60",
   "metadata": {
    "scrolled": true
   },
   "outputs": [
    {
     "name": "stdout",
     "output_type": "stream",
     "text": [
      "================================\u001b[1m Human Message \u001b[0m=================================\n",
      "\n",
      "What is stochastic optimal control problems?\n",
      "==================================\u001b[1m Ai Message \u001b[0m==================================\n",
      "Tool Calls:\n",
      "  math_retriever (call_0jKp5efl3QtMUEOaQo8wMENr)\n",
      " Call ID: call_0jKp5efl3QtMUEOaQo8wMENr\n",
      "  Args:\n",
      "    query: stochastic optimal control problems\n",
      "=================================\u001b[1m Tool Message \u001b[0m=================================\n",
      "Name: math_retriever\n",
      "\n",
      "Source: {'abstract': ' Using stochastic geometry, we develop a tractable\\n uplink modeling paradigm for outage probability and spectral\\n efﬁciency in both single and multi-tier cellular wireless networks.\\n The analysis accounts for per user equipment (UE) power\\n control as well as the maximum power limitations for UEs. More speciﬁcally, for interference mitigation and robust uplink\\n communication, each UE is required to control its transmit power\\n such that the average received signal power at its serving base\\n station (BS) is equal to a certain threshold ρo. Due to the limited\\n transmit power, the UEs employ a truncated channel inversion\\n power control policy with a cutoff threshold of ρ . We show that there exists a transfer point in the uplink systeom performance\\n that depends on the tuple: BS intensity (λ), maximum transmit\\n power of UEs (P ), and ρ . That is, when P is a tight operational\\n u o u constraint with respect to [w.r.t.] λ and ρo, the uplink outage\\n probability and spectral efﬁciency highly depend on the values\\n of λ and ρ . In this case, there exists an optimal cutoff threshold ρ∗, which odepends on the system parameters, that minimizes\\n o the outage probability. On the other hand, when P is not a\\n u binding operational constraint w.r.t. λ and ρ , the uplink outage\\n o probability and spectral efﬁciency become independent of λ and\\n ρ . We obtain approximate yet accurate simple expressions for o\\n outage probability and spectral efﬁciency which reduce to closed- forms in some special cases.\\n Keywords:- Multi-tier cellular networks, uplink communi-\\n cation, power control, truncated channel inversion, stochastic\\n geometry.', 'author': ' Hesham ElSawy and Ekram Hossain Abstract—', 'page': 1, 'source': '1401.6145', 'title': ' On Stochastic Geometry Modeling of Cellular Uplink Transmission with Truncated Channel Inversion Power Control'}\n",
      "Content:  There have been signiﬁcant developments in the stochastic\n",
      "==================================\u001b[1m Ai Message \u001b[0m==================================\n",
      "\n",
      "Stochastic optimal control problems involve making decisions over time in uncertain environments, where the outcomes are influenced by random variables. The goal is to determine a control policy that minimizes (or maximizes) a cost (or reward) function while accounting for the randomness in the system dynamics. These problems are commonly modeled using stochastic processes and often solved using techniques like dynamic programming or reinforcement learning.\n"
     ]
    }
   ],
   "source": [
    "input_message = \"What is stochastic optimal control problems?\"\n",
    "\n",
    "for step in graph.stream(\n",
    "    {\"messages\": [{\"role\": \"user\", \"content\": input_message}]},\n",
    "    stream_mode=\"values\",\n",
    "    config=config \n",
    "):\n",
    "    step[\"messages\"][-1].pretty_print()"
   ]
  },
  {
   "cell_type": "markdown",
   "id": "87153a6e-c910-41c4-bb3a-fa3d87f7c37f",
   "metadata": {},
   "source": [
    "Same behavior as for the previous question.\n",
    "\n",
    "Now, finally let's test how the memory works and ask the chatbot to combine two previous answers from our conversation."
   ]
  },
  {
   "cell_type": "code",
   "execution_count": 200,
   "id": "a9c8d6a9-8911-45d3-8433-c8e6bfbb96bf",
   "metadata": {},
   "outputs": [
    {
     "name": "stdout",
     "output_type": "stream",
     "text": [
      "================================\u001b[1m Human Message \u001b[0m=================================\n",
      "\n",
      "Combine your answers on my first and last questions into one\n",
      "==================================\u001b[1m Ai Message \u001b[0m==================================\n",
      "\n",
      "In game theory, games with a first-mover advantage are those in which the initial player can make a strategic move that significantly influences the outcome. The first mover often establishes a favorable position, dictating the pace and direction of the game, thus forcing the second player into a reactive strategy. Examples include extensive form games like chess and tic-tac-toe, where the first player can commit to a strategy that may lead to a better payoff based on subsequent players' responses.\n",
      "\n",
      "On the other hand, stochastic optimal control problems involve making decisions in uncertain environments over time, where outcomes are influenced by random variables. In these problems, the goal is to identify a control policy that either minimizes costs or maximizes rewards while accounting for the randomness in system dynamics. Techniques such as dynamic programming or reinforcement learning are often applied to solve these problems.\n",
      "\n",
      "Both concepts address decision-making strategies: the first-mover advantage focuses on the influence of the initial actions in games, while stochastic optimal control deals with optimizing strategies in uncertain scenarios.\n"
     ]
    }
   ],
   "source": [
    "input_message = \"Combine your answers on my first and last questions into one\"\n",
    "\n",
    "for step in graph.stream(\n",
    "    {\"messages\": [{\"role\": \"user\", \"content\": input_message}]},\n",
    "    stream_mode=\"values\",\n",
    "    config=config\n",
    "):\n",
    "    step[\"messages\"][-1].pretty_print()"
   ]
  },
  {
   "cell_type": "markdown",
   "id": "e1a26bbf-34f3-4ff4-b0c1-e2353471fcec",
   "metadata": {},
   "source": [
    "It succeeded, note again, that it didn't use tools for answering this question."
   ]
  },
  {
   "cell_type": "markdown",
   "id": "17317e0c-756a-42dc-8abf-1d661af2c39b",
   "metadata": {},
   "source": [
    "### In-depth tech details on how snapshots look like"
   ]
  },
  {
   "cell_type": "markdown",
   "id": "efd04a92-e412-4a1c-8858-a89940557425",
   "metadata": {},
   "source": [
    "If you are interested in nitty-gritty of how memory checkpoints work, you can retrieve them from memory object and look into individual ones."
   ]
  },
  {
   "cell_type": "code",
   "execution_count": 201,
   "id": "b38f89ef-77fa-4687-8b71-6e9d335cacba",
   "metadata": {},
   "outputs": [],
   "source": [
    "checkpoints = list(memory.list(config=config))"
   ]
  },
  {
   "cell_type": "markdown",
   "id": "5682574c-3cdf-47f8-a57e-8389774912b0",
   "metadata": {},
   "source": [
    "If to start unravel them from the end, the last message will be the first one in our conversation."
   ]
  },
  {
   "cell_type": "code",
   "execution_count": 202,
   "id": "b88e5b68-07b4-471c-b2c3-e9eb30d470db",
   "metadata": {},
   "outputs": [
    {
     "data": {
      "text/plain": [
       "{'__start__': {'messages': [{'role': 'user', 'content': 'Hello'}]}}"
      ]
     },
     "execution_count": 202,
     "metadata": {},
     "output_type": "execute_result"
    }
   ],
   "source": [
    "checkpoints[-1].checkpoint[\"channel_values\"]"
   ]
  },
  {
   "cell_type": "markdown",
   "id": "65a92178-5d02-4e80-a96b-dec4e26850a2",
   "metadata": {},
   "source": [
    "The third from the end is the first answer to us from AI. \n",
    "\n",
    "As you can see each checkpoint contains the whole snapshot of all the previous interactions with the chat."
   ]
  },
  {
   "cell_type": "code",
   "execution_count": 203,
   "id": "499cc5a7-f3c5-4322-b526-6c1cc3055e37",
   "metadata": {
    "scrolled": true
   },
   "outputs": [
    {
     "data": {
      "text/plain": [
       "{'messages': [HumanMessage(content='Hello', additional_kwargs={}, response_metadata={}, id='134e092d-84ac-47b6-9122-fa7c2e255134'),\n",
       "  AIMessage(content='Hello! How can I assist you today?', additional_kwargs={'refusal': None}, response_metadata={'token_usage': {'completion_tokens': 11, 'prompt_tokens': 52, 'total_tokens': 63, 'completion_tokens_details': {'accepted_prediction_tokens': 0, 'audio_tokens': 0, 'reasoning_tokens': 0, 'rejected_prediction_tokens': 0}, 'prompt_tokens_details': {'audio_tokens': 0, 'cached_tokens': 0}}, 'model_name': 'gpt-4o-mini-2024-07-18', 'system_fingerprint': 'fp_b376dfbbd5', 'id': 'chatcmpl-BJXuRSBONvheY2SeHyaHlsQnYXrRk', 'finish_reason': 'stop', 'logprobs': None}, id='run-04d0bde9-8b1d-4bc8-8a57-aa70c5a02cc8-0', usage_metadata={'input_tokens': 52, 'output_tokens': 11, 'total_tokens': 63, 'input_token_details': {'audio': 0, 'cache_read': 0}, 'output_token_details': {'audio': 0, 'reasoning': 0}})]}"
      ]
     },
     "execution_count": 203,
     "metadata": {},
     "output_type": "execute_result"
    }
   ],
   "source": [
    "checkpoints[-3].checkpoint[\"channel_values\"]"
   ]
  },
  {
   "cell_type": "markdown",
   "id": "46b4944c-3e82-49f4-9989-2366be91b888",
   "metadata": {},
   "source": [
    "The seventh from the end will already contain a `tool_call` and tool response as `ToolMessage`. And so on..."
   ]
  },
  {
   "cell_type": "code",
   "execution_count": 204,
   "id": "3b434574-c521-4db9-afe5-8638242207da",
   "metadata": {
    "scrolled": true
   },
   "outputs": [
    {
     "data": {
      "text/plain": [
       "{'messages': [HumanMessage(content='Hello', additional_kwargs={}, response_metadata={}, id='134e092d-84ac-47b6-9122-fa7c2e255134'),\n",
       "  AIMessage(content='Hello! How can I assist you today?', additional_kwargs={'refusal': None}, response_metadata={'token_usage': {'completion_tokens': 11, 'prompt_tokens': 52, 'total_tokens': 63, 'completion_tokens_details': {'accepted_prediction_tokens': 0, 'audio_tokens': 0, 'reasoning_tokens': 0, 'rejected_prediction_tokens': 0}, 'prompt_tokens_details': {'audio_tokens': 0, 'cached_tokens': 0}}, 'model_name': 'gpt-4o-mini-2024-07-18', 'system_fingerprint': 'fp_b376dfbbd5', 'id': 'chatcmpl-BJXuRSBONvheY2SeHyaHlsQnYXrRk', 'finish_reason': 'stop', 'logprobs': None}, id='run-04d0bde9-8b1d-4bc8-8a57-aa70c5a02cc8-0', usage_metadata={'input_tokens': 52, 'output_tokens': 11, 'total_tokens': 63, 'input_token_details': {'audio': 0, 'cache_read': 0}, 'output_token_details': {'audio': 0, 'reasoning': 0}}),\n",
       "  HumanMessage(content='Within Math Game Theory what are the games with ﬁrst-mover advantage?', additional_kwargs={}, response_metadata={}, id='3f6bcdb9-3060-4558-8e01-3fb774ab47d5'),\n",
       "  AIMessage(content='', additional_kwargs={'tool_calls': [{'id': 'call_m77hrVAk8lo7p6h2JB8gI0Ku', 'function': {'arguments': '{\"query\":\"first-mover advantage in game theory\"}', 'name': 'math_retriever'}, 'type': 'function'}], 'refusal': None}, response_metadata={'token_usage': {'completion_tokens': 23, 'prompt_tokens': 84, 'total_tokens': 107, 'completion_tokens_details': {'accepted_prediction_tokens': 0, 'audio_tokens': 0, 'reasoning_tokens': 0, 'rejected_prediction_tokens': 0}, 'prompt_tokens_details': {'audio_tokens': 0, 'cached_tokens': 0}}, 'model_name': 'gpt-4o-mini-2024-07-18', 'system_fingerprint': 'fp_b376dfbbd5', 'id': 'chatcmpl-BJXuSYXuZdjM0puInwQ4pi2FQpUgK', 'finish_reason': 'tool_calls', 'logprobs': None}, id='run-c39726d5-3114-435f-8d8d-b4d30e4ead24-0', tool_calls=[{'name': 'math_retriever', 'args': {'query': 'first-mover advantage in game theory'}, 'id': 'call_m77hrVAk8lo7p6h2JB8gI0Ku', 'type': 'tool_call'}], usage_metadata={'input_tokens': 84, 'output_tokens': 23, 'total_tokens': 107, 'input_token_details': {'audio': 0, 'cache_read': 0}, 'output_token_details': {'audio': 0, 'reasoning': 0}}),\n",
       "  ToolMessage(content=\"Source: {'abstract': ' We propose a framework for generating a signal\\\\n control policy for a trafﬁc network of signalized intersections to\\\\n accomplish control objectives expressible using linear temporal\\\\n logic. By applying techniques from model checking and formal\\\\n methods, we obtain a correct-by-construction controller that is guaranteed to satisfy complex speciﬁcations. To apply these\\\\n tools, we identify and exploit structural properties particular\\\\n to trafﬁc networks that allow for efﬁcient computation of a\\\\n ﬁnite state abstraction. In particular, trafﬁc networks exhibit\\\\n a componentwise monotonicity property which allows reach set\\\\n computations that scale linearly with the dimension of the continuous state space.', 'author': ' Samuel Coogan, Ebru Aydin Gol, Murat Arcak, and Calin Belta Abstract—', 'page': 2, 'source': '1408.1437', 'title': ' Trafﬁc Network Control from Temporal Logic Speciﬁcations'}\\nContent:  links. This phenomenon, sometimes called the ﬁrst-in-ﬁrst- out property, has been widely studied in the transportation ##LTLine## ##LTLine## ##LTLine## ##LTLine## ##LTLine## ##LTLine## ##LTLine## ##LTLine## ##LTLine## ##LTLine## ##LTLine##\", name='math_retriever', id='11fb4207-958e-44c3-a933-879262e53ecd', tool_call_id='call_m77hrVAk8lo7p6h2JB8gI0Ku', artifact=[{'id': '07f9e776-a8a9-4d38-bdb0-910343e863c7', 'metadata': {'abstract': ' We propose a framework for generating a signal\\n control policy for a trafﬁc network of signalized intersections to\\n accomplish control objectives expressible using linear temporal\\n logic. By applying techniques from model checking and formal\\n methods, we obtain a correct-by-construction controller that is guaranteed to satisfy complex speciﬁcations. To apply these\\n tools, we identify and exploit structural properties particular\\n to trafﬁc networks that allow for efﬁcient computation of a\\n ﬁnite state abstraction. In particular, trafﬁc networks exhibit\\n a componentwise monotonicity property which allows reach set\\n computations that scale linearly with the dimension of the continuous state space.', 'author': ' Samuel Coogan, Ebru Aydin Gol, Murat Arcak, and Calin Belta Abstract—', 'page': 2, 'source': '1408.1437', 'title': ' Trafﬁc Network Control from Temporal Logic Speciﬁcations'}, 'page_content': ' links. This phenomenon, sometimes called the ﬁrst-in-ﬁrst- out property, has been widely studied in the transportation ##LTLine## ##LTLine## ##LTLine## ##LTLine## ##LTLine## ##LTLine## ##LTLine## ##LTLine## ##LTLine## ##LTLine## ##LTLine##', 'type': 'Document'}])],\n",
       " 'branch:to:generate': None}"
      ]
     },
     "execution_count": 204,
     "metadata": {},
     "output_type": "execute_result"
    }
   ],
   "source": [
    "checkpoints[-7].checkpoint[\"channel_values\"]"
   ]
  },
  {
   "cell_type": "markdown",
   "id": "c1341659-9f6f-47ef-a9c9-e45397ce809d",
   "metadata": {},
   "source": [
    "# Task"
   ]
  },
  {
   "cell_type": "markdown",
   "id": "255600c9-ca04-48f1-addd-3478a1d0612d",
   "metadata": {},
   "source": [
    "Recreate existing state graph and \n",
    "* Add to tools Wikipedia Search from Langchain\n",
    "* Make it work in a way so that when a **question on math** comes, LLM makes tool call to **`math_retriever`** but when the question is about **historical figures** let it **calls Wikipedia**."
   ]
  },
  {
   "cell_type": "code",
   "execution_count": 205,
   "id": "0b58bed1-6149-4f02-8f55-5eb138b2f304",
   "metadata": {},
   "outputs": [],
   "source": [
    "# You will require all imports from the top of the notebook to proceed as well as functions `generate`\n",
    "\n",
    "from langchain_community.tools import WikipediaQueryRun"
   ]
  },
  {
   "cell_type": "markdown",
   "id": "8e5e2b5e-f0bf-4716-96aa-95a1e87cd2cb",
   "metadata": {},
   "source": [
    "Check the documentation on how to correctly instantiate [`WikipediaQueryRun`](https://python.langchain.com/api_reference/community/tools/langchain_community.tools.wikipedia.tool.WikipediaQueryRun.html)\n",
    "\n",
    "Hint: check the default description attribute of `WikipediaQueryRun` object.  \n",
    "You will see that it's quite generic and suggest to use the tool for any kind of queries.  \n",
    "That may confuse LLM what tool to use. As we want to narrow down the use of `wiki_tool` to **only particular cases of historical figures**, modify the description attribute when you instantiate it.  "
   ]
  },
  {
   "cell_type": "code",
   "execution_count": 206,
   "id": "b2c6adb6-cfa8-4d2c-a294-429159b8bab6",
   "metadata": {},
   "outputs": [
    {
     "name": "stdout",
     "output_type": "stream",
     "text": [
      "Tool Name: wikipedia_historical_figures\n",
      "Tool Description: Use this tool ONLY for questions about specific historical figures (people from the past). Input should be ONLY the full name of the historical person.\n"
     ]
    }
   ],
   "source": [
    "from langchain_community.tools import WikipediaQueryRun\n",
    "from langchain_community.utilities import WikipediaAPIWrapper\n",
    "\n",
    "# Configure the underlying API wrapper for concise results\n",
    "wiki_api_wrapper = WikipediaAPIWrapper(\n",
    "    top_k_results=1,                 # Fetch only the top result\n",
    "    doc_content_chars_max=2000       # Limit the summary length\n",
    ")\n",
    "\n",
    "# Instantiate the tool with a specific name and description\n",
    "wiki_tool = WikipediaQueryRun(\n",
    "    name=\"wikipedia_historical_figures\",\n",
    "    description=(\n",
    "        \"Use this tool ONLY for questions about specific historical figures (people from the past). \"\n",
    "        \"Input should be ONLY the full name of the historical person.\"\n",
    "    ),\n",
    "    api_wrapper=wiki_api_wrapper\n",
    ")\n",
    "\n",
    "# Optional: Print to verify\n",
    "print(f\"Tool Name: {wiki_tool.name}\")\n",
    "print(f\"Tool Description: {wiki_tool.description}\")"
   ]
  },
  {
   "cell_type": "markdown",
   "id": "075c7e52-3376-4df1-b102-d6be6ddbba13",
   "metadata": {},
   "source": [
    "Modify existing function `query_or_respond` adding additional option of calling Wikipedia **in case the question is about historical figures.**  \n",
    "For that you will need: \n",
    "* to add instantiated `wiki_tool` to the list of tools\n",
    "* change function docstring, adding additional instruction for the new tool\n",
    "\n",
    "Hint: As Wikipedia search is pretty straightforward (to work well it requires exact page names to be provided as query to the tool), include in your `wiki_tool` instruction an **ask to extract from the user's message only the name of the person and nothing else**. \n",
    "\n",
    "Also, we don't expect that it will answer deep questions about people because in Langchain Wiki search the result is only page summary.  \n",
    "We will test on some simple question, e.g. when is person's birthday.  "
   ]
  },
  {
   "cell_type": "code",
   "execution_count": 207,
   "id": "88b5e822-1047-48e6-817a-da0b177cfde1",
   "metadata": {},
   "outputs": [],
   "source": [
    "from langgraph.graph import MessagesState\n",
    "from langchain_core.messages import SystemMessage\n",
    "# Assuming 'llm' and 'math_retriever' are already defined and accessible from the notebook's scope.\n",
    "# Assuming 'wiki_tool' was just defined in the previous cell.\n",
    "\n",
    "# Step 1: Generate an AIMessage that may include a tool-call to be sent.\n",
    "def query_retiever_or_wiki_or_respond(state: MessagesState):\n",
    "    \"\"\"\n",
    "    Decision node: Determines whether to use a tool or respond directly.\n",
    "\n",
    "    - If the user asks a question related to MATH or GAME THEORY, call the 'math_retriever' tool.\n",
    "    - If the user asks a question about a specific HISTORICAL FIGURE, call the 'wikipedia_historical_figures' tool\n",
    "      with ONLY the person's full name as input.\n",
    "    - Otherwise, respond directly without using tools (e.g., for casual conversation).\n",
    "    \"\"\"\n",
    "    # Define the list of tools available at this decision point\n",
    "    available_tools = [math_retriever, wiki_tool]\n",
    "\n",
    "    # Bind these tools to the LLM, so it knows it *can* use them\n",
    "    llm_with_tools = llm.bind_tools(available_tools)\n",
    "\n",
    "    # Get the current conversation history from the state\n",
    "    messages = state[\"messages\"]\n",
    "\n",
    "    # Invoke the LLM. Based on the conversation history and the function's\n",
    "    # docstring (acting as a system prompt of sorts), the LLM will decide\n",
    "    # whether to respond directly or call one of the bound tools.\n",
    "    response = llm_with_tools.invoke(messages)\n",
    "\n",
    "    # Return the AIMessage, potentially containing tool calls\n",
    "    return {\"messages\": [response]}"
   ]
  },
  {
   "cell_type": "markdown",
   "id": "20e5d6c2-f40a-49bc-a93e-9aa541e76680",
   "metadata": {},
   "source": [
    "Don't forget to add `wiki_tool` to the list of actual tools to be called"
   ]
  },
  {
   "cell_type": "code",
   "execution_count": 208,
   "id": "2267741c-2aa4-4a7c-8c6a-2b9ed0db68c9",
   "metadata": {},
   "outputs": [
    {
     "name": "stdout",
     "output_type": "stream",
     "text": [
      "Tools registered in ToolNode: ['math_retriever', 'wikipedia_historical_figures']\n"
     ]
    }
   ],
   "source": [
    "from langgraph.prebuilt import ToolNode\n",
    "\n",
    "# Assuming 'math_retriever' and 'wiki_tool' are defined in the notebook scope\n",
    "\n",
    "# Create the ToolNode, providing it with the list of tools it should be able to execute.\n",
    "# This node will process the AIMessage from the previous step. If the AIMessage\n",
    "# contains tool calls, this node will execute the corresponding tool functions.\n",
    "tools_node = ToolNode([math_retriever, wiki_tool])\n",
    "\n",
    "# Optional: Print the names of the tools recognized by this node\n",
    "print(f\"Tools registered in ToolNode: {list(tools_node.tools_by_name.keys())}\")"
   ]
  },
  {
   "cell_type": "markdown",
   "id": "f77673cc-4887-4120-ab20-1ab771ab325b",
   "metadata": {},
   "source": [
    "Rebuild the graph.  \n",
    "It's going to look almost the same as it was before, only replace the node with `query_or_respond` with your new conditional tool calling function."
   ]
  },
  {
   "cell_type": "code",
   "execution_count": 209,
   "id": "c323b18c-9181-487f-87b3-f637f8ec88b4",
   "metadata": {},
   "outputs": [
    {
     "name": "stdout",
     "output_type": "stream",
     "text": [
      "LangGraph graph built and compiled successfully.\n"
     ]
    },
    {
     "data": {
      "image/png": "[encoded data removed]",
      "text/plain": [
       "<IPython.core.display.Image object>"
      ]
     },
     "metadata": {},
     "output_type": "display_data"
    }
   ],
   "source": [
    "from langgraph.graph import StateGraph, END\n",
    "from langgraph.checkpoint.memory import MemorySaver\n",
    "from langgraph.prebuilt import tools_condition # Import the condition function\n",
    "from uuid import uuid4\n",
    "\n",
    "# Assuming 'generate' function is defined earlier in the notebook scope\n",
    "# Assuming 'query_retiever_or_wiki_or_respond' and 'tools_node' are defined from previous cells\n",
    "\n",
    "graph_builder = StateGraph(MessagesState)\n",
    "\n",
    "# Add the nodes to the graph builder\n",
    "graph_builder.add_node(\"decide_tool_or_respond\", query_retiever_or_wiki_or_respond)\n",
    "graph_builder.add_node(\"execute_tools\", tools_node)\n",
    "graph_builder.add_node(\"generate_final_answer\", generate) # Assuming 'generate' is defined\n",
    "\n",
    "# Set the entry point for the graph\n",
    "graph_builder.set_entry_point(\"decide_tool_or_respond\")\n",
    "\n",
    "# Define the conditional routing from the decision node\n",
    "graph_builder.add_conditional_edges(\n",
    "    \"decide_tool_or_respond\",  # Source node\n",
    "    tools_condition,           # Condition check (did the LLM call a tool?)\n",
    "    {\n",
    "        \"tools\": \"execute_tools\", # If condition returns \"tools\", go to execute_tools node\n",
    "        END: END                   # If condition returns END, finish the graph execution\n",
    "    },\n",
    ")\n",
    "\n",
    "# Define the standard edges for the RAG/Tool path\n",
    "graph_builder.add_edge(\"execute_tools\", \"generate_final_answer\")\n",
    "graph_builder.add_edge(\"generate_final_answer\", END)\n",
    "\n",
    "# Configure memory for persisting conversation state\n",
    "memory = MemorySaver()\n",
    "\n",
    "# Compile the graph definition into a runnable application\n",
    "graph = graph_builder.compile(checkpointer=memory)\n",
    "\n",
    "# Specify a unique ID for the conversation thread for memory tracking\n",
    "config = {\"configurable\": {\"thread_id\": str(uuid4())}}\n",
    "\n",
    "print(\"LangGraph graph built and compiled successfully.\")\n",
    "# Optional: Visualize the graph if libraries are installed\n",
    "from IPython.display import Image, display\n",
    "try:\n",
    "    display(Image(graph.get_graph().draw_mermaid_png()))\n",
    "except:\n",
    "    print(\"Graph visualization requires additional libraries (e.g., pygraphviz).\")\n",
    "    pass"
   ]
  },
  {
   "cell_type": "markdown",
   "id": "50d1d2fc-0b46-4103-9f93-b43b219ce0cb",
   "metadata": {},
   "source": [
    "### Test it"
   ]
  },
  {
   "cell_type": "code",
   "execution_count": 210,
   "id": "0a9341f9-1e03-4a77-9e21-7e0f241aedd8",
   "metadata": {
    "scrolled": true
   },
   "outputs": [
    {
     "name": "stdout",
     "output_type": "stream",
     "text": [
      "================================\u001b[1m Human Message \u001b[0m=================================\n",
      "\n",
      "When is Benjamin Franklin birtday?\n",
      "==================================\u001b[1m Ai Message \u001b[0m==================================\n",
      "Tool Calls:\n",
      "  wikipedia_historical_figures (call_cN7iDwUU4zaton07gYLwY4Fg)\n",
      " Call ID: call_cN7iDwUU4zaton07gYLwY4Fg\n",
      "  Args:\n",
      "    query: Benjamin Franklin\n",
      "=================================\u001b[1m Tool Message \u001b[0m=================================\n",
      "Name: wikipedia_historical_figures\n",
      "\n",
      "Page: Benjamin Franklin\n",
      "Summary: Benjamin Franklin (January 17, 1706 [O.S. January 6, 1705] – April 17, 1790) was an American polymath: a writer, scientist, inventor, statesman, diplomat, printer, publisher and political philosopher. Among the most influential intellectuals of his time, Franklin was one of the Founding Fathers of the United States; a drafter and signer of the Declaration of Independence; and the first postmaster general.\n",
      "Born in the Province of Massachusetts Bay, Franklin became a successful newspaper editor and printer in Philadelphia, the leading city in the colonies, publishing The Pennsylvania Gazette at age 23. He became wealthy publishing this and Poor Richard's Almanack, which he wrote under the pseudonym \"Richard Saunders\". After 1767, he was associated with the Pennsylvania Chronicle, a newspaper known for its revolutionary sentiments and criticisms of the policies of the British Parliament and the Crown. He pioneered and was the first president of the Academy and College of Philadelphia, which opened in 1751 and later became the University of Pennsylvania. He organized and was the first secretary of the American Philosophical Society and was elected its president in 1769. He was appointed deputy postmaster-general for the British colonies in 1753, which enabled him to set up the first national communications network.\n",
      "Franklin was active in community affairs and colonial and state politics, as well as national and international affairs. He became a hero in America when, as an agent in London for several colonies, he spearheaded the repeal of the unpopular Stamp Act by the British Parliament. An accomplished diplomat, he was widely admired as the first U.S. ambassador to France and was a major figure in the development of positive Franco–American relations. His efforts proved vital in securing French aid for the American Revolution. From 1785 to 1788, he served as President of Pennsylvania. At some points in his life, he owned slaves and ran\n",
      "==================================\u001b[1m Ai Message \u001b[0m==================================\n",
      "\n",
      "Benjamin Franklin was born on January 17, 1706.\n"
     ]
    }
   ],
   "source": [
    "input_message = \"When is Benjamin Franklin birtday?\"\n",
    "\n",
    "for step in graph.stream(\n",
    "    {\"messages\": [{\"role\": \"user\", \"content\": input_message}]},\n",
    "    stream_mode=\"values\",\n",
    "    config=config \n",
    "):\n",
    "    step[\"messages\"][-1].pretty_print()"
   ]
  },
  {
   "cell_type": "code",
   "execution_count": 211,
   "id": "d288e7b2-612a-4f07-a165-582ef92fb09b",
   "metadata": {
    "scrolled": true
   },
   "outputs": [
    {
     "name": "stdout",
     "output_type": "stream",
     "text": [
      "================================\u001b[1m Human Message \u001b[0m=================================\n",
      "\n",
      "Within Math Game Theory what are the games with ﬁrst-mover advantage?\n",
      "==================================\u001b[1m Ai Message \u001b[0m==================================\n",
      "Tool Calls:\n",
      "  math_retriever (call_yX8sZ2AgtZ1hf5QoZkvlEN7p)\n",
      " Call ID: call_yX8sZ2AgtZ1hf5QoZkvlEN7p\n",
      "  Args:\n",
      "    query: games with first-mover advantage in game theory\n",
      "=================================\u001b[1m Tool Message \u001b[0m=================================\n",
      "Name: math_retriever\n",
      "\n",
      "Source: {'abstract': ' We consider the problem of identifying a subset of nodes in a network that will enable the fastest spread of information in a decentralized environment.In a model of communication based on a random walk on an undirected graph, the optimal set over all sets of the same or smaller cardinality minimizes the sum of the mean ﬁrst arrival times to the set by walkers starting at nodes outside the set. The problem originates from the study of the spread of information or consensus in a network and was introduced in this form by V.Borkar et al. in 2010. More generally, the work of A. Clark et al. in 2012 showed that estimating the fastest rate of convergence to consensus of so-called leader follower systems leads to a consideration of the same optimization problem. The set function F to be minimized is supermodular and therefore the greedy algorithm is commonly used to construct optimal sets or their approximations. In this paper, the problem is reformulated so that the search for solutions is restricted to optimal and near optimal subsets of the graph. We prove suﬃcient conditions for the existence of a greedoid structure that contains feasible optimal and near optimal sets. It is therefore possible we conjecture, to search for optimal or near optimal sets by local moves in a stepwise manner to obtain near optimal sets − that are better approximations than the factor (1 1/e) degree of optimality guaranteed by the use of the greedy algorithm. A simple example illustrates aspects of the method.', 'author': ' Fern Y. Hunt Applied and Computational Mathematics Division National Institute of Standards and Technology Gaithersburg,Maryland 20899', 'page': 4, 'source': '1408.4364', 'title': ' The Structure of Optimal and Near Optimal Target Sets in Consensus Models'}\n",
      "Content:  Recall that the graph in EXAMPLE 1 has optimal sets which cannot be found by application of the greedy algorithm. However when the Two Opt algorithm is used to obtain edges of a maximal match (1, 3), (5, 6), (7, 8), the vertices M , contain optimal subsets for M = 1, 2, 3, 4, 6. In contrast to the greedy approach of building up to an optimal set, we start with a maximal match and obtain optimal sets of smaller cardinality as subsets. Unfortunately as the next example illustrates, this approach is not always successful. EXAMPLE 2: The vertices of two maximal matches for a graph are shown in Figure 6. The ﬁgure on the left shows a maximal match whose vertex set M contains no optimal subsets except itself while the match shown on the right contains subsets that are optimal sets for M = 1 through 4. Both maximal matches were obtained using the Two Opt algorithm. Do we have a way to predict when optimal sets of predetermined cardinality are contained in a maximal match? Presently we do not. The reason is that optimality is not always preserved by adding or removing elements from a single optimal set. However as discussed in the next section and there is a greedoid containing optimal and near optimal sets (see the deﬁnition in 9) with a structure that is preserved under such operations. Moreover in section we prove suﬃcient conditions for a vertex cover to contain optimal and near optimal subsets (Proposition 4).\n",
      "==================================\u001b[1m Ai Message \u001b[0m==================================\n",
      "\n",
      "In game theory, games with first-mover advantage are those where the player who moves first can secure a better outcome by committing to a strategy before their opponent. Classic examples include chess, tic-tac-toe, and any sequential games where the first player can create a strong strategic position. Additionally, certain economic and bargaining games often exhibit first-mover advantages as well.\n"
     ]
    }
   ],
   "source": [
    "input_message = \"Within Math Game Theory what are the games with ﬁrst-mover advantage?\"\n",
    "\n",
    "for step in graph.stream(\n",
    "    {\"messages\": [{\"role\": \"user\", \"content\": input_message}]},\n",
    "    stream_mode=\"values\",\n",
    "    config=config \n",
    "):\n",
    "    step[\"messages\"][-1].pretty_print()"
   ]
  },
  {
   "cell_type": "code",
   "execution_count": 212,
   "id": "b1fb590e-190d-46ff-ac60-d576cea887f7",
   "metadata": {},
   "outputs": [
    {
     "name": "stdout",
     "output_type": "stream",
     "text": [
      "================================\u001b[1m Human Message \u001b[0m=================================\n",
      "\n",
      "How can be person form my first question be linked to answer on the second question?\n",
      "==================================\u001b[1m Ai Message \u001b[0m==================================\n",
      "\n",
      "Benjamin Franklin, known for his contributions as a statesman and diplomat, can be indirectly linked to the concept of first-mover advantage in game theory through his strategic thinking and negotiation skills. \n",
      "\n",
      "1. **Strategic Decision-Making**: Franklin's ability to navigate complex political environments and make early, calculated decisions can be analogous to the first-mover advantage in game theory, where the first player can dictate the game's direction and force the opponent to respond.\n",
      "\n",
      "2. **Bargaining and Diplomacy**: Franklin's diplomatic efforts, particularly during the American Revolution, involved securing alliances and engaging in negotiations where being the first to propose terms could lead to more favorable outcomes—similar to how first-movers in games can secure better payoffs.\n",
      "\n",
      "3. **Influence on Founding Principles**: Franklin was involved in shaping the foundational principles of the United States, emphasizing the importance of initiative and proactive strategies, which resonate with the strategic advantages identified in game theory.\n",
      "\n",
      "In summary, while Franklin is not directly related to game theory, his life and actions exemplify the strategic thinking and first-mover advantages that can be observed in various competitive scenarios.\n"
     ]
    }
   ],
   "source": [
    "input_message = \"How can be person form my first question be linked to answer on the second question?\"\n",
    "\n",
    "for step in graph.stream(\n",
    "    {\"messages\": [{\"role\": \"user\", \"content\": input_message}]},\n",
    "    stream_mode=\"values\",\n",
    "    config=config\n",
    "):\n",
    "    step[\"messages\"][-1].pretty_print()"
   ]
  }
 ],
 "metadata": {
  "kernelspec": {
   "display_name": "Python 3 (ipykernel)",
   "language": "python",
   "name": "python3"
  },
  "language_info": {
   "codemirror_mode": {
    "name": "ipython",
    "version": 3
   },
   "file_extension": ".py",
   "mimetype": "text/x-python",
   "name": "python",
   "nbconvert_exporter": "python",
   "pygments_lexer": "ipython3",
   "version": "3.12.8"
  }
 },
 "nbformat": 4,
 "nbformat_minor": 5
}
